{
  "nbformat": 4,
  "nbformat_minor": 0,
  "metadata": {
    "colab": {
      "provenance": []
    },
    "kernelspec": {
      "name": "python3",
      "display_name": "Python 3"
    },
    "language_info": {
      "name": "python"
    }
  },
  "cells": [
    {
      "cell_type": "code",
      "execution_count": null,
      "metadata": {
        "id": "uiYeX00BkqvL"
      },
      "outputs": [],
      "source": [
        "import torch\n",
        "from torch import nn\n",
        "!pip install torchvision"
      ]
    },
    {
      "cell_type": "code",
      "source": [
        "from torchvision import datasets\n",
        "from torchvision import transforms\n",
        "from torchvision.transforms import ToTensor\n",
        "import pandas as pd\n",
        "from torch.utils.data import DataLoader"
      ],
      "metadata": {
        "id": "f2A4N5b7k7iw"
      },
      "execution_count": 54,
      "outputs": []
    },
    {
      "cell_type": "code",
      "source": [
        "import matplotlib.pyplot as plt"
      ],
      "metadata": {
        "id": "_4JrapJ22RbF"
      },
      "execution_count": 55,
      "outputs": []
    },
    {
      "cell_type": "code",
      "source": [
        "!pip install torchmetrics"
      ],
      "metadata": {
        "id": "bDm6mDWnt14L"
      },
      "execution_count": null,
      "outputs": []
    },
    {
      "cell_type": "code",
      "source": [
        "from torchmetrics import Accuracy\n",
        "accuracy = Accuracy(task=\"multiclass\",num_classes=10)"
      ],
      "metadata": {
        "id": "fwQ6Vd1UuFJX"
      },
      "execution_count": 57,
      "outputs": []
    },
    {
      "cell_type": "code",
      "source": [
        "train_data = datasets.FashionMNIST(root=\"data\",train=True,transform=ToTensor(),target_transform=None,download=True)"
      ],
      "metadata": {
        "id": "uxbxmLe5mCfR"
      },
      "execution_count": 58,
      "outputs": []
    },
    {
      "cell_type": "code",
      "source": [
        "test_data = datasets.FashionMNIST(root=\"data\", train = False, transform=ToTensor(),target_transform=None,download=True)"
      ],
      "metadata": {
        "id": "dy-xSrixnikD"
      },
      "execution_count": 59,
      "outputs": []
    },
    {
      "cell_type": "code",
      "source": [
        "train_data.class_to_idx"
      ],
      "metadata": {
        "colab": {
          "base_uri": "https://localhost:8080/"
        },
        "id": "IgbISILun0V3",
        "outputId": "016224a6-7761-4d81-9849-5dbbeecedc46"
      },
      "execution_count": 60,
      "outputs": [
        {
          "output_type": "execute_result",
          "data": {
            "text/plain": [
              "{'T-shirt/top': 0,\n",
              " 'Trouser': 1,\n",
              " 'Pullover': 2,\n",
              " 'Dress': 3,\n",
              " 'Coat': 4,\n",
              " 'Sandal': 5,\n",
              " 'Shirt': 6,\n",
              " 'Sneaker': 7,\n",
              " 'Bag': 8,\n",
              " 'Ankle boot': 9}"
            ]
          },
          "metadata": {},
          "execution_count": 60
        }
      ]
    },
    {
      "cell_type": "code",
      "source": [
        "type(train_data)"
      ],
      "metadata": {
        "id": "qmjFDa7BsejS"
      },
      "execution_count": null,
      "outputs": []
    },
    {
      "cell_type": "code",
      "source": [
        "images , lable = train_data[0]\n",
        "type(images)"
      ],
      "metadata": {
        "colab": {
          "base_uri": "https://localhost:8080/"
        },
        "id": "Icb7-k8voRa5",
        "outputId": "235063c5-08f6-4634-a47b-c76ee19c6bb2"
      },
      "execution_count": 62,
      "outputs": [
        {
          "output_type": "execute_result",
          "data": {
            "text/plain": [
              "torch.Tensor"
            ]
          },
          "metadata": {},
          "execution_count": 62
        }
      ]
    },
    {
      "cell_type": "code",
      "source": [
        "images.shape"
      ],
      "metadata": {
        "colab": {
          "base_uri": "https://localhost:8080/"
        },
        "id": "vF2LHn7opFdJ",
        "outputId": "87a5cdc6-5c45-4a8d-e4ca-9a268d4c5881"
      },
      "execution_count": 63,
      "outputs": [
        {
          "output_type": "execute_result",
          "data": {
            "text/plain": [
              "torch.Size([1, 28, 28])"
            ]
          },
          "metadata": {},
          "execution_count": 63
        }
      ]
    },
    {
      "cell_type": "code",
      "source": [
        "lable"
      ],
      "metadata": {
        "colab": {
          "base_uri": "https://localhost:8080/"
        },
        "id": "4puoqxb7pGNh",
        "outputId": "998338fa-e975-454b-a456-83a6956ff04c"
      },
      "execution_count": 64,
      "outputs": [
        {
          "output_type": "execute_result",
          "data": {
            "text/plain": [
              "9"
            ]
          },
          "metadata": {},
          "execution_count": 64
        }
      ]
    },
    {
      "cell_type": "code",
      "source": [
        "train_dataloader = DataLoader(dataset=train_data,batch_size=32,shuffle=True)"
      ],
      "metadata": {
        "id": "3wlW_acJpJpO"
      },
      "execution_count": 65,
      "outputs": []
    },
    {
      "cell_type": "code",
      "source": [
        "test_dataloader = DataLoader(dataset=test_data, batch_size=32, shuffle=False)"
      ],
      "metadata": {
        "id": "XnQxmVOmsr18"
      },
      "execution_count": 66,
      "outputs": []
    },
    {
      "cell_type": "code",
      "source": [
        "train_dataloader\n",
        "# test_dataloader"
      ],
      "metadata": {
        "colab": {
          "base_uri": "https://localhost:8080/"
        },
        "id": "lF7QVX9Vs8gC",
        "outputId": "d7b5ae80-536a-44fc-dd53-9c126684d1ed"
      },
      "execution_count": 67,
      "outputs": [
        {
          "output_type": "execute_result",
          "data": {
            "text/plain": [
              "<torch.utils.data.dataloader.DataLoader at 0x7da7cd54d750>"
            ]
          },
          "metadata": {},
          "execution_count": 67
        }
      ]
    },
    {
      "cell_type": "code",
      "source": [
        "len(train_dataloader)"
      ],
      "metadata": {
        "colab": {
          "base_uri": "https://localhost:8080/"
        },
        "id": "DswM4dKHs_qX",
        "outputId": "8b64f9cf-d35a-45f1-9534-b5a8a66c9ba3"
      },
      "execution_count": 68,
      "outputs": [
        {
          "output_type": "execute_result",
          "data": {
            "text/plain": [
              "1875"
            ]
          },
          "metadata": {},
          "execution_count": 68
        }
      ]
    },
    {
      "cell_type": "code",
      "source": [
        "len(test_dataloader)"
      ],
      "metadata": {
        "colab": {
          "base_uri": "https://localhost:8080/"
        },
        "id": "q1Y0msVMtG0_",
        "outputId": "395b783e-3107-4fad-fd64-43cb40836dad"
      },
      "execution_count": 69,
      "outputs": [
        {
          "output_type": "execute_result",
          "data": {
            "text/plain": [
              "313"
            ]
          },
          "metadata": {},
          "execution_count": 69
        }
      ]
    },
    {
      "cell_type": "code",
      "source": [
        "class First_CNN(nn.Module):\n",
        "  def __init__(self, input_features, output_features, hidden_features):\n",
        "    super().__init__()\n",
        "\n",
        "    self.block_1 = nn.Sequential(\n",
        "        nn.Conv2d(in_channels=input_features,out_channels=hidden_features,kernel_size=2,stride=1,padding=1),\n",
        "        nn.ReLU(),\n",
        "        nn.Conv2d(in_channels=hidden_features,out_channels=hidden_features,kernel_size=2,stride=1,padding=1),\n",
        "        nn.ReLU(),\n",
        "        nn.MaxPool2d(kernel_size=2)\n",
        "    )\n",
        "\n",
        "    self.block_2 = nn.Sequential(\n",
        "        nn.Conv2d(in_channels=hidden_features,out_channels=hidden_features,kernel_size=2,stride=1,padding=1),\n",
        "        nn.ReLU(),\n",
        "        nn.Conv2d(in_channels=hidden_features,out_channels=hidden_features,kernel_size=2,stride=1,padding=1),\n",
        "        nn.ReLU(),\n",
        "        nn.MaxPool2d(kernel_size=2)\n",
        "    )\n",
        "\n",
        "    dummy_input = torch.randn(1, input_features, 28, 28)  # FashionMNIST = 1 channel, 28x28\n",
        "    dummy_output = self.block_2(self.block_1(dummy_input))\n",
        "    self.flattened_size = dummy_output.view(1, -1).shape[1]\n",
        "\n",
        "    self.classification = nn.Sequential(\n",
        "        nn.Flatten(),\n",
        "        nn.Linear(in_features=self.flattened_size,out_features=output_features)\n",
        "    )\n",
        "  def forward(self,x):\n",
        "    x = self.block_1(x)\n",
        "    x = self.block_2(x)\n",
        "    x = self.classification(x)\n",
        "    return x"
      ],
      "metadata": {
        "id": "gqBYTN2MtVN9"
      },
      "execution_count": 106,
      "outputs": []
    },
    {
      "cell_type": "code",
      "source": [
        "cnn = First_CNN(1,10,10)"
      ],
      "metadata": {
        "id": "fm9AmptqyrhE"
      },
      "execution_count": 107,
      "outputs": []
    },
    {
      "cell_type": "code",
      "source": [
        "image, lable = next(iter(train_dataloader)) #this is just like for loop, iter will make it iterator and will get the forst batch and then the next will be used to iterate through for forst batch"
      ],
      "metadata": {
        "id": "fbvldOMYzCKf"
      },
      "execution_count": 108,
      "outputs": []
    },
    {
      "cell_type": "code",
      "source": [
        "image.shape"
      ],
      "metadata": {
        "colab": {
          "base_uri": "https://localhost:8080/"
        },
        "id": "fSxHJaDg2gkq",
        "outputId": "453228e5-e801-45b3-e72a-4976cba59757"
      },
      "execution_count": 109,
      "outputs": [
        {
          "output_type": "execute_result",
          "data": {
            "text/plain": [
              "torch.Size([32, 1, 28, 28])"
            ]
          },
          "metadata": {},
          "execution_count": 109
        }
      ]
    },
    {
      "cell_type": "code",
      "source": [
        "plt.imshow(image[0].squeeze(),cmap=\"gray\")"
      ],
      "metadata": {
        "colab": {
          "base_uri": "https://localhost:8080/",
          "height": 448
        },
        "id": "v5uprv5iy2YP",
        "outputId": "f3926acf-aa63-4d57-9646-bdf765a2b84b"
      },
      "execution_count": 110,
      "outputs": [
        {
          "output_type": "execute_result",
          "data": {
            "text/plain": [
              "<matplotlib.image.AxesImage at 0x7da7d9efb850>"
            ]
          },
          "metadata": {},
          "execution_count": 110
        },
        {
          "output_type": "display_data",
          "data": {
            "text/plain": [
              "<Figure size 640x480 with 1 Axes>"
            ],
            "image/png": "[encoded data removed]"
          },
          "metadata": {}
        }
      ]
    },
    {
      "cell_type": "code",
      "source": [
        "loss_function = nn.CrossEntropyLoss()\n",
        "optimizer = torch.optim.SGD(params=cnn.parameters(),lr=0.01)"
      ],
      "metadata": {
        "id": "_4AjrTFo2DVW"
      },
      "execution_count": 111,
      "outputs": []
    },
    {
      "cell_type": "code",
      "source": [
        "def train_function(model,data,loss_function,optimizer,accuracy):\n",
        "  model.train()\n",
        "  final_loss = 0\n",
        "  final_accuracy = 0\n",
        "\n",
        "  for batch,(image,lable) in enumerate(data):\n",
        "\n",
        "    logits = model(image)\n",
        "\n",
        "    loss = loss_function(logits, lable)\n",
        "\n",
        "    final_loss += loss.item()\n",
        "    final_accuracy += accuracy(logits, lable)\n",
        "\n",
        "    optimizer.zero_grad()\n",
        "\n",
        "    loss.backward()\n",
        "\n",
        "    optimizer.step()\n",
        "\n",
        "  final_loss /= len(data)\n",
        "  final_accuracy /= len(data)\n",
        "  print(f\"Final Training Loss : {final_loss} || Accuracy : {final_accuracy}\")\n"
      ],
      "metadata": {
        "id": "Xz8M8LAf478m"
      },
      "execution_count": 112,
      "outputs": []
    },
    {
      "cell_type": "code",
      "source": [
        "def test_function(model,data,loss_function,accuracy):\n",
        "  model.eval()\n",
        "  final_loss = 0\n",
        "  final_accuracy = 0\n",
        "\n",
        "  with torch.inference_mode():\n",
        "    for batch, (image, lable) in enumerate(data):\n",
        "\n",
        "      logits = model(image)\n",
        "\n",
        "      loss = loss_function(logits,lable)\n",
        "      final_loss += loss.item()\n",
        "\n",
        "      final_accuracy += accuracy(logits,lable)\n",
        "\n",
        "    final_loss /= len(data)\n",
        "    final_accuracy /= len(data)\n",
        "    print(f\"Final Testing Loss : {final_loss} || Accuracy : {final_accuracy}\")\n",
        "\n"
      ],
      "metadata": {
        "id": "ACSurP_y7Ioz"
      },
      "execution_count": 113,
      "outputs": []
    },
    {
      "cell_type": "code",
      "source": [
        "epoches = 5\n",
        "for epoch in range(epoches):\n",
        "  print(\"\\n\\t---------\\n\\t\")\n",
        "  print(f\"Epoch : {epoch} : \\n\")\n",
        "  train_function(cnn,train_dataloader,loss_function,optimizer,accuracy)\n",
        "  print(\"\\n\\t\")\n",
        "  test_function(cnn,test_dataloader,loss_function,accuracy)\n"
      ],
      "metadata": {
        "id": "u53FO5ST9Pn8",
        "colab": {
          "base_uri": "https://localhost:8080/"
        },
        "outputId": "b5bd2dd7-35c5-4625-ee40-4bb28b5d3a06"
      },
      "execution_count": 114,
      "outputs": [
        {
          "output_type": "stream",
          "name": "stdout",
          "text": [
            "\n",
            "\t---------\n",
            "\t\n",
            "Epoch : 0 : \n",
            "\n",
            "Final Training Loss : 1.1642251227060954 || Accuracy : 0.5878666639328003\n",
            "\n",
            "\t\n",
            "Final Testing Loss : 0.5984548200814488 || Accuracy : 0.7837460041046143\n",
            "\n",
            "\t---------\n",
            "\t\n",
            "Epoch : 1 : \n",
            "\n",
            "Final Training Loss : 0.5256042811671893 || Accuracy : 0.8098499774932861\n",
            "\n",
            "\t\n",
            "Final Testing Loss : 0.4829794904960992 || Accuracy : 0.8302715420722961\n",
            "\n",
            "\t---------\n",
            "\t\n",
            "Epoch : 2 : \n",
            "\n",
            "Final Training Loss : 0.4343036661227544 || Accuracy : 0.8443333506584167\n",
            "\n",
            "\t\n",
            "Final Testing Loss : 0.42994167817572054 || Accuracy : 0.8455471396446228\n",
            "\n",
            "\t---------\n",
            "\t\n",
            "Epoch : 3 : \n",
            "\n",
            "Final Training Loss : 0.39557206995884575 || Accuracy : 0.8583333492279053\n",
            "\n",
            "\t\n",
            "Final Testing Loss : 0.40673905301589175 || Accuracy : 0.8598242998123169\n",
            "\n",
            "\t---------\n",
            "\t\n",
            "Epoch : 4 : \n",
            "\n",
            "Final Training Loss : 0.3726239452203115 || Accuracy : 0.8672000169754028\n",
            "\n",
            "\t\n",
            "Final Testing Loss : 0.3804587395474934 || Accuracy : 0.8651158213615417\n"
          ]
        }
      ]
    },
    {
      "cell_type": "code",
      "source": [
        "cnn.eval()\n",
        "with torch.no_grad():\n",
        "    images, labels = next(iter(test_dataloader))\n",
        "    outputs = cnn(images)\n",
        "    preds = outputs.argmax(dim=1)\n",
        "\n",
        "plt.figure(figsize=(12, 6))\n",
        "for i in range(6):\n",
        "    plt.subplot(2, 3, i+1)\n",
        "    plt.imshow(images[i].squeeze(), cmap=\"gray\")\n",
        "    plt.title(f\"True: {train_data.classes[labels[i]]}\\nPred: {train_data.classes[preds[i]]}\")\n",
        "    plt.axis('off')\n",
        "plt.show()"
      ],
      "metadata": {
        "colab": {
          "base_uri": "https://localhost:8080/",
          "height": 542
        },
        "id": "3KqMwXSRK6zm",
        "outputId": "2412ee82-a243-4a84-800b-ee764de568af"
      },
      "execution_count": 115,
      "outputs": [
        {
          "output_type": "display_data",
          "data": {
            "text/plain": [
              "<Figure size 1200x600 with 6 Axes>"
            ],
            "image/png": "[encoded data removed]"
          },
          "metadata": {}
        }
      ]
    },
    {
      "cell_type": "code",
      "source": [],
      "metadata": {
        "id": "xRs4XJtSU5qr"
      },
      "execution_count": null,
      "outputs": []
    }
  ]
}